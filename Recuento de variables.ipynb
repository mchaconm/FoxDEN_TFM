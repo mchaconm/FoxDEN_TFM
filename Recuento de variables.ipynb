{
 "cells": [
  {
   "cell_type": "code",
   "execution_count": 1,
   "metadata": {},
   "outputs": [],
   "source": [
    "import pandas as pd\n",
    "from os import listdir\n",
    "from os.path import isfile, join"
   ]
  },
  {
   "cell_type": "code",
   "execution_count": 2,
   "metadata": {},
   "outputs": [],
   "source": [
    "mypath = \"C:/Users/miguelico/Google Drive/master/TFM/Data/Variables\"\n",
    "onlyfiles = [f for f in listdir(mypath) if isfile(join(mypath, f))]\n",
    "onlyfiles = [f.replace('.csv', '') for f in onlyfiles]"
   ]
  },
  {
   "cell_type": "code",
   "execution_count": 3,
   "metadata": {},
   "outputs": [],
   "source": [
    "for x in ['variables', 'variables_recuento', 'Limpieza_Cajamar', 'AD_variable']:\n",
    "    onlyfiles.remove(x)"
   ]
  },
  {
   "cell_type": "code",
   "execution_count": 4,
   "metadata": {},
   "outputs": [
    {
     "data": {
      "text/plain": [
       "['About',\n",
       " 'AcuteHealth',\n",
       " 'Brief_Motor_Screen',\n",
       " 'Cannabis_Use_in_PD',\n",
       " 'Clinical_Global_Impression_of_Change_Non_PD',\n",
       " 'Clinical_Global_Impression_of_Change_PD',\n",
       " 'Compensation_Strategies',\n",
       " 'COVID_19_Experience',\n",
       " 'CurrentHealth',\n",
       " 'DailyActivity',\n",
       " 'DailyLiving',\n",
       " 'EEQ_alcohol',\n",
       " 'EEQ_Anti_Inflammatory_Medication_History',\n",
       " 'EEQ_caffeine',\n",
       " 'EEQ_calcium_channel_blocker_medication_history',\n",
       " 'EEQ_female_reproductive_health',\n",
       " 'EEQ_Head_Injury_or_Concussion',\n",
       " 'EEQ_height_and_weight',\n",
       " 'EEQ_occupation',\n",
       " 'EEQ_pesticides_at_work',\n",
       " 'EEQ_physical_activity',\n",
       " 'EEQ_residential',\n",
       " 'EEQ_smoking',\n",
       " 'EEQ_toxicant',\n",
       " 'Episodes',\n",
       " 'Experiences_with_Sensory_Misperceptions',\n",
       " 'Financial_and_Social_Impact_of_Parkinsons_Disease',\n",
       " 'FIVE',\n",
       " 'General',\n",
       " 'Genetic',\n",
       " 'Handedness',\n",
       " 'HealthHis',\n",
       " 'Impact_and_Communication_about_OFF_Periods',\n",
       " 'MedHis',\n",
       " 'Medications',\n",
       " 'MedicationsPD',\n",
       " 'Mood',\n",
       " 'Movement',\n",
       " 'NeurHist',\n",
       " 'NeuroHis2',\n",
       " 'NonMovement',\n",
       " 'PASE',\n",
       " 'Patient_Therapeutic_Preferences_Questionnaire',\n",
       " 'PDPROP',\n",
       " 'PDSide',\n",
       " 'Physical',\n",
       " 'Referral',\n",
       " 'ReturnCTR',\n",
       " 'ReturnPD',\n",
       " 'RFQ_pesticides_in_nonwork_setting',\n",
       " 'Sleep',\n",
       " 'SurgHis',\n",
       " 'The_Role_of_Stress_in_Disease',\n",
       " 'The_Role_of_Stress_in_Parkinsons_Disease',\n",
       " 'Understanding_Fatigue_in_Parkinsons_Patients',\n",
       " 'Understanding_OFF_and_ON_in_Parkinsons_Patients',\n",
       " 'Understanding_Psychosis_and_its_Burden_on_Caregivers',\n",
       " 'Users']"
      ]
     },
     "execution_count": 4,
     "metadata": {},
     "output_type": "execute_result"
    }
   ],
   "source": [
    "onlyfiles"
   ]
  },
  {
   "cell_type": "code",
   "execution_count": 5,
   "metadata": {},
   "outputs": [],
   "source": [
    "def fill_table(field):\n",
    "    \n",
    "    root = \"C:/Users/miguelico/Google Drive/master/TFM/Data/Variables/\" + field + \".csv\"\n",
    "    df1 = pd.read_csv(root , sep = \",\")\n",
    "    df = pd.DataFrame(columns=['Variable', '# of rows', '# of different id', '# missing values', 'name of table', '# of different values', 'dtype'])\n",
    "    lst = list(df.columns)\n",
    "    col1 = []\n",
    "    col3 = []\n",
    "    [col1.append(x) for x in list(df1.columns)]\n",
    "    col4 = []\n",
    "    df[lst[0]] = col1\n",
    "    df[lst[1]] = df1.shape[0]\n",
    "    df[lst[2]] = len(df1['fox_insight_id'].unique())\n",
    "    [col3.append(df1[x].isna().sum()) for x in list(df1.columns)]\n",
    "    df[lst[3]] = col3\n",
    "    df[lst[4]] = field\n",
    "    [col4.append(len(df1[x][df1[x].notna()].unique())) for x in df1.columns]\n",
    "    df[lst[5]] = col4\n",
    "    col5 = []\n",
    "    [col5.append(x) for x in df1.dtypes.to_frame().reset_index()[0]]\n",
    "    df[lst[6]] = col5\n",
    "    return df"
   ]
  },
  {
   "cell_type": "code",
   "execution_count": 6,
   "metadata": {},
   "outputs": [],
   "source": [
    "table = fill_table(onlyfiles[0])"
   ]
  },
  {
   "cell_type": "code",
   "execution_count": 7,
   "metadata": {},
   "outputs": [],
   "source": [
    "for x in onlyfiles[1:]:\n",
    "    table = table.append(fill_table(x))"
   ]
  },
  {
   "cell_type": "code",
   "execution_count": 8,
   "metadata": {},
   "outputs": [],
   "source": [
    "table = table.drop_duplicates()"
   ]
  },
  {
   "cell_type": "code",
   "execution_count": 9,
   "metadata": {},
   "outputs": [],
   "source": [
    "field = 'FoxInsightVariables (1)'\n",
    "\n",
    "root = \"C:/Users/miguelico/Google Drive/master/TFM/Data/\" + field + \".csv\"\n",
    "Variables = pd.read_csv(root , sep = \",\")"
   ]
  },
  {
   "cell_type": "code",
   "execution_count": 10,
   "metadata": {},
   "outputs": [],
   "source": [
    "Variables = Variables.rename(columns = {'variable': 'Variable'})"
   ]
  },
  {
   "cell_type": "code",
   "execution_count": 11,
   "metadata": {},
   "outputs": [],
   "source": [
    "table = table.merge(Variables, how = 'inner', on = 'Variable')"
   ]
  },
  {
   "cell_type": "code",
   "execution_count": 12,
   "metadata": {},
   "outputs": [],
   "source": [
    "table['Longitudinal'] = [\"No\" if table['# of rows'].iloc[i] == table['# of different id'].iloc[i] else 'Yes' for i in range(table.shape[0])]"
   ]
  },
  {
   "cell_type": "code",
   "execution_count": 13,
   "metadata": {},
   "outputs": [],
   "source": [
    "table.to_csv(\"C:/Users/miguelico/Google Drive/master/TFM/Data/Variables/AD_variable.csv\", index=False)"
   ]
  },
  {
   "cell_type": "code",
   "execution_count": null,
   "metadata": {},
   "outputs": [],
   "source": []
  }
 ],
 "metadata": {
  "kernelspec": {
   "display_name": "Python 3",
   "language": "python",
   "name": "python3"
  },
  "language_info": {
   "codemirror_mode": {
    "name": "ipython",
    "version": 3
   },
   "file_extension": ".py",
   "mimetype": "text/x-python",
   "name": "python",
   "nbconvert_exporter": "python",
   "pygments_lexer": "ipython3",
   "version": "3.8.3"
  }
 },
 "nbformat": 4,
 "nbformat_minor": 4
}
